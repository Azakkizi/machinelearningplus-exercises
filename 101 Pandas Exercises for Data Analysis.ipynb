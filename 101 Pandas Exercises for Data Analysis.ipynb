{
  "nbformat": 4,
  "nbformat_minor": 0,
  "metadata": {
    "colab": {
      "provenance": []
    },
    "kernelspec": {
      "name": "python3",
      "display_name": "Python 3"
    },
    "language_info": {
      "name": "python"
    }
  },
  "cells": [
    {
      "cell_type": "markdown",
      "source": [
        "**1. How to import pandas and check the version?**"
      ],
      "metadata": {
        "id": "rwsPoU1CmsDZ"
      }
    },
    {
      "cell_type": "code",
      "execution_count": 1,
      "metadata": {
        "colab": {
          "base_uri": "https://localhost:8080/"
        },
        "id": "UJAlZCc-mRkb",
        "outputId": "247f98ce-a7eb-4f79-eaea-6632f4c4a586"
      },
      "outputs": [
        {
          "output_type": "stream",
          "name": "stdout",
          "text": [
            "2.0.3\n"
          ]
        }
      ],
      "source": [
        "import pandas as pd\n",
        "print(pd.__version__)"
      ]
    },
    {
      "cell_type": "markdown",
      "source": [
        "**2. How to create a series from a list, numpy array and dict?**\n",
        "\n",
        "Create a pandas series from each of the items below: a list, numpy and a dictionary\n",
        "\n",
        "*Input:*"
      ],
      "metadata": {
        "id": "JixLf_1ZnGjp"
      }
    },
    {
      "cell_type": "code",
      "source": [
        "import numpy as np\n",
        "mylist = list('abcedfghijklmnopqrstuvwxyz')\n",
        "myarr = np.arange(26)\n",
        "mydict = dict(zip(mylist, myarr))"
      ],
      "metadata": {
        "id": "6sff--aZmqia"
      },
      "execution_count": 2,
      "outputs": []
    },
    {
      "cell_type": "code",
      "source": [
        "s1 = pd.Series(mylist)\n",
        "s2 = pd.Series(myarr)\n",
        "s3 = pd.Series(mydict)\n",
        "\n",
        "s3.head()"
      ],
      "metadata": {
        "colab": {
          "base_uri": "https://localhost:8080/"
        },
        "id": "Ocr8wa42nQH9",
        "outputId": "3d8db242-0eba-43ba-8baa-dae755073280"
      },
      "execution_count": 3,
      "outputs": [
        {
          "output_type": "execute_result",
          "data": {
            "text/plain": [
              "a    0\n",
              "b    1\n",
              "c    2\n",
              "e    3\n",
              "d    4\n",
              "dtype: int64"
            ]
          },
          "metadata": {},
          "execution_count": 3
        }
      ]
    },
    {
      "cell_type": "markdown",
      "source": [
        "**3. How to convert the index of a series into a column of a dataframe?**\n",
        "\n",
        "Convert the series ser into a dataframe with its index as another column on the dataframe.\n",
        "\n",
        "*Input:*"
      ],
      "metadata": {
        "id": "iN2hgz7Woa-E"
      }
    },
    {
      "cell_type": "code",
      "source": [
        "mylist = list('abcedfghijklmnopqrstuvwxyz')\n",
        "myarr = np.arange(26)\n",
        "mydict = dict(zip(mylist, myarr))\n",
        "ser = pd.Series(mydict)"
      ],
      "metadata": {
        "id": "e5II3IKgoeQt"
      },
      "execution_count": 4,
      "outputs": []
    },
    {
      "cell_type": "code",
      "source": [
        "df = ser.to_frame().reset_index()\n",
        "df.head()"
      ],
      "metadata": {
        "colab": {
          "base_uri": "https://localhost:8080/",
          "height": 206
        },
        "id": "mLAL3rtTooL_",
        "outputId": "78dbbc36-c663-4cdb-9814-11e3043fb350"
      },
      "execution_count": 5,
      "outputs": [
        {
          "output_type": "execute_result",
          "data": {
            "text/plain": [
              "  index  0\n",
              "0     a  0\n",
              "1     b  1\n",
              "2     c  2\n",
              "3     e  3\n",
              "4     d  4"
            ],
            "text/html": [
              "\n",
              "  <div id=\"df-17037535-dd05-4366-8faa-fc8608647a0c\" class=\"colab-df-container\">\n",
              "    <div>\n",
              "<style scoped>\n",
              "    .dataframe tbody tr th:only-of-type {\n",
              "        vertical-align: middle;\n",
              "    }\n",
              "\n",
              "    .dataframe tbody tr th {\n",
              "        vertical-align: top;\n",
              "    }\n",
              "\n",
              "    .dataframe thead th {\n",
              "        text-align: right;\n",
              "    }\n",
              "</style>\n",
              "<table border=\"1\" class=\"dataframe\">\n",
              "  <thead>\n",
              "    <tr style=\"text-align: right;\">\n",
              "      <th></th>\n",
              "      <th>index</th>\n",
              "      <th>0</th>\n",
              "    </tr>\n",
              "  </thead>\n",
              "  <tbody>\n",
              "    <tr>\n",
              "      <th>0</th>\n",
              "      <td>a</td>\n",
              "      <td>0</td>\n",
              "    </tr>\n",
              "    <tr>\n",
              "      <th>1</th>\n",
              "      <td>b</td>\n",
              "      <td>1</td>\n",
              "    </tr>\n",
              "    <tr>\n",
              "      <th>2</th>\n",
              "      <td>c</td>\n",
              "      <td>2</td>\n",
              "    </tr>\n",
              "    <tr>\n",
              "      <th>3</th>\n",
              "      <td>e</td>\n",
              "      <td>3</td>\n",
              "    </tr>\n",
              "    <tr>\n",
              "      <th>4</th>\n",
              "      <td>d</td>\n",
              "      <td>4</td>\n",
              "    </tr>\n",
              "  </tbody>\n",
              "</table>\n",
              "</div>\n",
              "    <div class=\"colab-df-buttons\">\n",
              "\n",
              "  <div class=\"colab-df-container\">\n",
              "    <button class=\"colab-df-convert\" onclick=\"convertToInteractive('df-17037535-dd05-4366-8faa-fc8608647a0c')\"\n",
              "            title=\"Convert this dataframe to an interactive table.\"\n",
              "            style=\"display:none;\">\n",
              "\n",
              "  <svg xmlns=\"http://www.w3.org/2000/svg\" height=\"24px\" viewBox=\"0 -960 960 960\">\n",
              "    <path d=\"M120-120v-720h720v720H120Zm60-500h600v-160H180v160Zm220 220h160v-160H400v160Zm0 220h160v-160H400v160ZM180-400h160v-160H180v160Zm440 0h160v-160H620v160ZM180-180h160v-160H180v160Zm440 0h160v-160H620v160Z\"/>\n",
              "  </svg>\n",
              "    </button>\n",
              "\n",
              "  <style>\n",
              "    .colab-df-container {\n",
              "      display:flex;\n",
              "      gap: 12px;\n",
              "    }\n",
              "\n",
              "    .colab-df-convert {\n",
              "      background-color: #E8F0FE;\n",
              "      border: none;\n",
              "      border-radius: 50%;\n",
              "      cursor: pointer;\n",
              "      display: none;\n",
              "      fill: #1967D2;\n",
              "      height: 32px;\n",
              "      padding: 0 0 0 0;\n",
              "      width: 32px;\n",
              "    }\n",
              "\n",
              "    .colab-df-convert:hover {\n",
              "      background-color: #E2EBFA;\n",
              "      box-shadow: 0px 1px 2px rgba(60, 64, 67, 0.3), 0px 1px 3px 1px rgba(60, 64, 67, 0.15);\n",
              "      fill: #174EA6;\n",
              "    }\n",
              "\n",
              "    .colab-df-buttons div {\n",
              "      margin-bottom: 4px;\n",
              "    }\n",
              "\n",
              "    [theme=dark] .colab-df-convert {\n",
              "      background-color: #3B4455;\n",
              "      fill: #D2E3FC;\n",
              "    }\n",
              "\n",
              "    [theme=dark] .colab-df-convert:hover {\n",
              "      background-color: #434B5C;\n",
              "      box-shadow: 0px 1px 3px 1px rgba(0, 0, 0, 0.15);\n",
              "      filter: drop-shadow(0px 1px 2px rgba(0, 0, 0, 0.3));\n",
              "      fill: #FFFFFF;\n",
              "    }\n",
              "  </style>\n",
              "\n",
              "    <script>\n",
              "      const buttonEl =\n",
              "        document.querySelector('#df-17037535-dd05-4366-8faa-fc8608647a0c button.colab-df-convert');\n",
              "      buttonEl.style.display =\n",
              "        google.colab.kernel.accessAllowed ? 'block' : 'none';\n",
              "\n",
              "      async function convertToInteractive(key) {\n",
              "        const element = document.querySelector('#df-17037535-dd05-4366-8faa-fc8608647a0c');\n",
              "        const dataTable =\n",
              "          await google.colab.kernel.invokeFunction('convertToInteractive',\n",
              "                                                    [key], {});\n",
              "        if (!dataTable) return;\n",
              "\n",
              "        const docLinkHtml = 'Like what you see? Visit the ' +\n",
              "          '<a target=\"_blank\" href=https://colab.research.google.com/notebooks/data_table.ipynb>data table notebook</a>'\n",
              "          + ' to learn more about interactive tables.';\n",
              "        element.innerHTML = '';\n",
              "        dataTable['output_type'] = 'display_data';\n",
              "        await google.colab.output.renderOutput(dataTable, element);\n",
              "        const docLink = document.createElement('div');\n",
              "        docLink.innerHTML = docLinkHtml;\n",
              "        element.appendChild(docLink);\n",
              "      }\n",
              "    </script>\n",
              "  </div>\n",
              "\n",
              "\n",
              "<div id=\"df-dac78854-18a4-4c54-8b5f-2e7a0858c111\">\n",
              "  <button class=\"colab-df-quickchart\" onclick=\"quickchart('df-dac78854-18a4-4c54-8b5f-2e7a0858c111')\"\n",
              "            title=\"Suggest charts\"\n",
              "            style=\"display:none;\">\n",
              "\n",
              "<svg xmlns=\"http://www.w3.org/2000/svg\" height=\"24px\"viewBox=\"0 0 24 24\"\n",
              "     width=\"24px\">\n",
              "    <g>\n",
              "        <path d=\"M19 3H5c-1.1 0-2 .9-2 2v14c0 1.1.9 2 2 2h14c1.1 0 2-.9 2-2V5c0-1.1-.9-2-2-2zM9 17H7v-7h2v7zm4 0h-2V7h2v10zm4 0h-2v-4h2v4z\"/>\n",
              "    </g>\n",
              "</svg>\n",
              "  </button>\n",
              "\n",
              "<style>\n",
              "  .colab-df-quickchart {\n",
              "      --bg-color: #E8F0FE;\n",
              "      --fill-color: #1967D2;\n",
              "      --hover-bg-color: #E2EBFA;\n",
              "      --hover-fill-color: #174EA6;\n",
              "      --disabled-fill-color: #AAA;\n",
              "      --disabled-bg-color: #DDD;\n",
              "  }\n",
              "\n",
              "  [theme=dark] .colab-df-quickchart {\n",
              "      --bg-color: #3B4455;\n",
              "      --fill-color: #D2E3FC;\n",
              "      --hover-bg-color: #434B5C;\n",
              "      --hover-fill-color: #FFFFFF;\n",
              "      --disabled-bg-color: #3B4455;\n",
              "      --disabled-fill-color: #666;\n",
              "  }\n",
              "\n",
              "  .colab-df-quickchart {\n",
              "    background-color: var(--bg-color);\n",
              "    border: none;\n",
              "    border-radius: 50%;\n",
              "    cursor: pointer;\n",
              "    display: none;\n",
              "    fill: var(--fill-color);\n",
              "    height: 32px;\n",
              "    padding: 0;\n",
              "    width: 32px;\n",
              "  }\n",
              "\n",
              "  .colab-df-quickchart:hover {\n",
              "    background-color: var(--hover-bg-color);\n",
              "    box-shadow: 0 1px 2px rgba(60, 64, 67, 0.3), 0 1px 3px 1px rgba(60, 64, 67, 0.15);\n",
              "    fill: var(--button-hover-fill-color);\n",
              "  }\n",
              "\n",
              "  .colab-df-quickchart-complete:disabled,\n",
              "  .colab-df-quickchart-complete:disabled:hover {\n",
              "    background-color: var(--disabled-bg-color);\n",
              "    fill: var(--disabled-fill-color);\n",
              "    box-shadow: none;\n",
              "  }\n",
              "\n",
              "  .colab-df-spinner {\n",
              "    border: 2px solid var(--fill-color);\n",
              "    border-color: transparent;\n",
              "    border-bottom-color: var(--fill-color);\n",
              "    animation:\n",
              "      spin 1s steps(1) infinite;\n",
              "  }\n",
              "\n",
              "  @keyframes spin {\n",
              "    0% {\n",
              "      border-color: transparent;\n",
              "      border-bottom-color: var(--fill-color);\n",
              "      border-left-color: var(--fill-color);\n",
              "    }\n",
              "    20% {\n",
              "      border-color: transparent;\n",
              "      border-left-color: var(--fill-color);\n",
              "      border-top-color: var(--fill-color);\n",
              "    }\n",
              "    30% {\n",
              "      border-color: transparent;\n",
              "      border-left-color: var(--fill-color);\n",
              "      border-top-color: var(--fill-color);\n",
              "      border-right-color: var(--fill-color);\n",
              "    }\n",
              "    40% {\n",
              "      border-color: transparent;\n",
              "      border-right-color: var(--fill-color);\n",
              "      border-top-color: var(--fill-color);\n",
              "    }\n",
              "    60% {\n",
              "      border-color: transparent;\n",
              "      border-right-color: var(--fill-color);\n",
              "    }\n",
              "    80% {\n",
              "      border-color: transparent;\n",
              "      border-right-color: var(--fill-color);\n",
              "      border-bottom-color: var(--fill-color);\n",
              "    }\n",
              "    90% {\n",
              "      border-color: transparent;\n",
              "      border-bottom-color: var(--fill-color);\n",
              "    }\n",
              "  }\n",
              "</style>\n",
              "\n",
              "  <script>\n",
              "    async function quickchart(key) {\n",
              "      const quickchartButtonEl =\n",
              "        document.querySelector('#' + key + ' button');\n",
              "      quickchartButtonEl.disabled = true;  // To prevent multiple clicks.\n",
              "      quickchartButtonEl.classList.add('colab-df-spinner');\n",
              "      try {\n",
              "        const charts = await google.colab.kernel.invokeFunction(\n",
              "            'suggestCharts', [key], {});\n",
              "      } catch (error) {\n",
              "        console.error('Error during call to suggestCharts:', error);\n",
              "      }\n",
              "      quickchartButtonEl.classList.remove('colab-df-spinner');\n",
              "      quickchartButtonEl.classList.add('colab-df-quickchart-complete');\n",
              "    }\n",
              "    (() => {\n",
              "      let quickchartButtonEl =\n",
              "        document.querySelector('#df-dac78854-18a4-4c54-8b5f-2e7a0858c111 button');\n",
              "      quickchartButtonEl.style.display =\n",
              "        google.colab.kernel.accessAllowed ? 'block' : 'none';\n",
              "    })();\n",
              "  </script>\n",
              "</div>\n",
              "\n",
              "    </div>\n",
              "  </div>\n"
            ],
            "application/vnd.google.colaboratory.intrinsic+json": {
              "type": "dataframe",
              "variable_name": "df",
              "summary": "{\n  \"name\": \"df\",\n  \"rows\": 26,\n  \"fields\": [\n    {\n      \"column\": \"index\",\n      \"properties\": {\n        \"dtype\": \"string\",\n        \"num_unique_values\": 26,\n        \"samples\": [\n          \"i\",\n          \"q\",\n          \"a\"\n        ],\n        \"semantic_type\": \"\",\n        \"description\": \"\"\n      }\n    },\n    {\n      \"column\": 0,\n      \"properties\": {\n        \"dtype\": \"number\",\n        \"std\": 7,\n        \"min\": 0,\n        \"max\": 25,\n        \"num_unique_values\": 26,\n        \"samples\": [\n          8,\n          16,\n          0\n        ],\n        \"semantic_type\": \"\",\n        \"description\": \"\"\n      }\n    }\n  ]\n}"
            }
          },
          "metadata": {},
          "execution_count": 5
        }
      ]
    },
    {
      "cell_type": "markdown",
      "source": [
        "**4. How to combine many series to form a dataframe?**\n",
        "\n",
        "Combine ser1 and ser2 to form a dataframe.\n",
        "\n",
        "*Input:*"
      ],
      "metadata": {
        "id": "5zm6jciOpyPX"
      }
    },
    {
      "cell_type": "code",
      "source": [
        "import numpy as np\n",
        "ser1 = pd.Series(list('abcedfghijklmnopqrstuvwxyz'))\n",
        "ser2 = pd.Series(np.arange(26))"
      ],
      "metadata": {
        "id": "rZXjXqTe3L9a"
      },
      "execution_count": 6,
      "outputs": []
    },
    {
      "cell_type": "code",
      "source": [
        "df1 = pd.concat([ser1, ser2], axis=1)\n",
        "print(df1.head())\n",
        "\n",
        "df2 = pd.DataFrame({'first': ser1, 'second': ser2})\n",
        "print(df2.head())"
      ],
      "metadata": {
        "colab": {
          "base_uri": "https://localhost:8080/"
        },
        "id": "zRQ3nrlG3P9H",
        "outputId": "8ecbbe34-67aa-408d-a503-3c024a8bdc60"
      },
      "execution_count": 7,
      "outputs": [
        {
          "output_type": "stream",
          "name": "stdout",
          "text": [
            "   0  1\n",
            "0  a  0\n",
            "1  b  1\n",
            "2  c  2\n",
            "3  e  3\n",
            "4  d  4\n",
            "  first  second\n",
            "0     a       0\n",
            "1     b       1\n",
            "2     c       2\n",
            "3     e       3\n",
            "4     d       4\n"
          ]
        }
      ]
    },
    {
      "cell_type": "markdown",
      "source": [
        "**5. How to assign name to the series’ index?**\n",
        "\n",
        "Give a name to the series ser calling it ‘alphabets’.\n",
        "\n",
        "*Input:*"
      ],
      "metadata": {
        "id": "Bclc-xSZ8WNH"
      }
    },
    {
      "cell_type": "code",
      "source": [
        "ser = pd.Series(list('abcedfghijklmnopqrstuvwxyz'))"
      ],
      "metadata": {
        "id": "SVVzLDDj8bPW"
      },
      "execution_count": 8,
      "outputs": []
    },
    {
      "cell_type": "code",
      "source": [
        "ser.name = 'alphabets'\n",
        "ser.head()"
      ],
      "metadata": {
        "colab": {
          "base_uri": "https://localhost:8080/"
        },
        "id": "diTkYsdi87jv",
        "outputId": "81bb3642-ecdc-4759-aba8-0a1b5c6191e1"
      },
      "execution_count": 9,
      "outputs": [
        {
          "output_type": "execute_result",
          "data": {
            "text/plain": [
              "0    a\n",
              "1    b\n",
              "2    c\n",
              "3    e\n",
              "4    d\n",
              "Name: alphabets, dtype: object"
            ]
          },
          "metadata": {},
          "execution_count": 9
        }
      ]
    },
    {
      "cell_type": "markdown",
      "source": [
        "**6. How to get the items of series A not present in series B?**\n",
        "\n",
        "From ser1 remove items present in ser2\n",
        "\n",
        "*Input:*"
      ],
      "metadata": {
        "id": "jm2xEKWP-Gur"
      }
    },
    {
      "cell_type": "code",
      "source": [
        "ser1 = pd.Series([1, 2, 3, 4, 5])\n",
        "ser2 = pd.Series([4, 5, 6, 7, 8])"
      ],
      "metadata": {
        "id": "e4eNwGX8-V-6"
      },
      "execution_count": 10,
      "outputs": []
    },
    {
      "cell_type": "code",
      "source": [
        "ser1[~ser1.isin(ser2)]"
      ],
      "metadata": {
        "colab": {
          "base_uri": "https://localhost:8080/"
        },
        "id": "mZOhrsJp-h-B",
        "outputId": "b811e436-9bc7-43a8-a44f-185fb4dc1448"
      },
      "execution_count": 11,
      "outputs": [
        {
          "output_type": "execute_result",
          "data": {
            "text/plain": [
              "0    1\n",
              "1    2\n",
              "2    3\n",
              "dtype: int64"
            ]
          },
          "metadata": {},
          "execution_count": 11
        }
      ]
    },
    {
      "cell_type": "markdown",
      "source": [
        "**7. How to get the items not common to both series A and series B?**\n",
        "\n",
        "Get all items of ser1 and ser2 not common to both.\n",
        "\n",
        "*Input:*"
      ],
      "metadata": {
        "id": "3nPtmtne_ZJr"
      }
    },
    {
      "cell_type": "code",
      "source": [
        "ser1 = pd.Series([1, 2, 3, 4, 5])\n",
        "ser2 = pd.Series([4, 5, 6, 7, 8])"
      ],
      "metadata": {
        "id": "345rqPuW_1UA"
      },
      "execution_count": 12,
      "outputs": []
    },
    {
      "cell_type": "code",
      "source": [
        "s_union = pd.Series(np.union1d(ser1, ser2))\n",
        "s_intersect = pd.Series(np.intersect1d(ser1, ser2))\n",
        "s_res = s_union[~s_union.isin(s_intersect)]\n",
        "s_res.head(10)"
      ],
      "metadata": {
        "colab": {
          "base_uri": "https://localhost:8080/"
        },
        "id": "yQVfwnjr_3xp",
        "outputId": "b13d4cf1-cbd8-4843-c5b0-9e321c586947"
      },
      "execution_count": 14,
      "outputs": [
        {
          "output_type": "execute_result",
          "data": {
            "text/plain": [
              "0    1\n",
              "1    2\n",
              "2    3\n",
              "5    6\n",
              "6    7\n",
              "7    8\n",
              "dtype: int64"
            ]
          },
          "metadata": {},
          "execution_count": 14
        }
      ]
    },
    {
      "cell_type": "markdown",
      "source": [
        "**8. How to get the minimum, 25th percentile, median, 75th, and max of a numeric series?**\n",
        "\n",
        "Compute the minimum, 25th percentile, median, 75th, and maximum of ser.\n",
        "\n",
        "*Input:*"
      ],
      "metadata": {
        "id": "dlT3LTxM9V42"
      }
    },
    {
      "cell_type": "code",
      "source": [
        "ser = pd.Series(np.random.normal(10, 5, 25))"
      ],
      "metadata": {
        "id": "9yppND2g9dr0"
      },
      "execution_count": 30,
      "outputs": []
    },
    {
      "cell_type": "code",
      "source": [
        "print(ser)\n",
        "np.percentile(ser, q=[0, 25, 50, 75, 100])"
      ],
      "metadata": {
        "colab": {
          "base_uri": "https://localhost:8080/"
        },
        "id": "LqQ4T21z9jmO",
        "outputId": "b6556f14-0274-4c4f-b19a-316d05c6e235"
      },
      "execution_count": 31,
      "outputs": [
        {
          "output_type": "stream",
          "name": "stdout",
          "text": [
            "0     15.721083\n",
            "1      5.445931\n",
            "2      2.565557\n",
            "3     15.577697\n",
            "4      0.172290\n",
            "5      6.615373\n",
            "6      9.579899\n",
            "7      9.931824\n",
            "8      5.816030\n",
            "9      7.583420\n",
            "10    15.384337\n",
            "11     6.207524\n",
            "12     9.480865\n",
            "13     7.292446\n",
            "14     3.026204\n",
            "15     8.892117\n",
            "16     9.243202\n",
            "17    12.466858\n",
            "18     6.627416\n",
            "19     9.657901\n",
            "20    11.169798\n",
            "21    -6.971233\n",
            "22    10.262689\n",
            "23    13.717888\n",
            "24    14.949341\n",
            "dtype: float64\n"
          ]
        },
        {
          "output_type": "execute_result",
          "data": {
            "text/plain": [
              "array([-6.97123321,  6.20752423,  9.24320237, 11.16979775, 15.72108293])"
            ]
          },
          "metadata": {},
          "execution_count": 31
        }
      ]
    },
    {
      "cell_type": "markdown",
      "source": [
        "**9. How to get frequency counts of unique items of a series?**\n",
        "\n",
        "Calculte the frequency counts of each unique value ser.\n",
        "\n",
        "*Input:*"
      ],
      "metadata": {
        "id": "pg829Qr9LBKs"
      }
    },
    {
      "cell_type": "code",
      "source": [
        "ser = pd.Series(np.take(list('abcdefgh'), np.random.randint(8, size=30)))"
      ],
      "metadata": {
        "id": "c6mYODQ_LIqJ"
      },
      "execution_count": 32,
      "outputs": []
    },
    {
      "cell_type": "code",
      "source": [
        "print(ser)\n",
        "ser.value_counts()"
      ],
      "metadata": {
        "colab": {
          "base_uri": "https://localhost:8080/"
        },
        "id": "0CeOlxAnLMhv",
        "outputId": "b1f4f0b8-ac67-47e0-d119-41e2c87c3575"
      },
      "execution_count": 33,
      "outputs": [
        {
          "output_type": "stream",
          "name": "stdout",
          "text": [
            "0     d\n",
            "1     c\n",
            "2     h\n",
            "3     g\n",
            "4     h\n",
            "5     f\n",
            "6     e\n",
            "7     b\n",
            "8     d\n",
            "9     e\n",
            "10    b\n",
            "11    c\n",
            "12    c\n",
            "13    c\n",
            "14    c\n",
            "15    h\n",
            "16    d\n",
            "17    h\n",
            "18    a\n",
            "19    g\n",
            "20    d\n",
            "21    d\n",
            "22    d\n",
            "23    g\n",
            "24    f\n",
            "25    c\n",
            "26    d\n",
            "27    g\n",
            "28    a\n",
            "29    e\n",
            "dtype: object\n"
          ]
        },
        {
          "output_type": "execute_result",
          "data": {
            "text/plain": [
              "d    7\n",
              "c    6\n",
              "h    4\n",
              "g    4\n",
              "e    3\n",
              "f    2\n",
              "b    2\n",
              "a    2\n",
              "Name: count, dtype: int64"
            ]
          },
          "metadata": {},
          "execution_count": 33
        }
      ]
    },
    {
      "cell_type": "markdown",
      "source": [
        "**10. How to keep only top 2 most frequent values as it is and replace everything else as ‘Other’?**\n",
        "\n",
        "From ser, keep the top 2 most frequent items as it is and replace everything else as ‘Other’.\n",
        "\n",
        "*Input:*"
      ],
      "metadata": {
        "id": "wd89h_vOMSs-"
      }
    },
    {
      "cell_type": "code",
      "source": [
        "np.random.RandomState(100)\n",
        "ser = pd.Series(np.random.randint(1, 5, [12]))"
      ],
      "metadata": {
        "id": "01D25QehMcOH"
      },
      "execution_count": 40,
      "outputs": []
    },
    {
      "cell_type": "code",
      "source": [
        "print(ser)\n",
        "print(ser.value_counts())\n",
        "ser[~ser.isin(ser.value_counts().index[:2])] = 'Other'\n",
        "print(ser)\n",
        "ser.value_counts()"
      ],
      "metadata": {
        "colab": {
          "base_uri": "https://localhost:8080/"
        },
        "id": "HaxhjTa8MgJR",
        "outputId": "2223dbb2-590d-4be4-d49f-a76970faf0a0"
      },
      "execution_count": 41,
      "outputs": [
        {
          "output_type": "stream",
          "name": "stdout",
          "text": [
            "0     2\n",
            "1     2\n",
            "2     1\n",
            "3     3\n",
            "4     3\n",
            "5     1\n",
            "6     1\n",
            "7     4\n",
            "8     4\n",
            "9     4\n",
            "10    3\n",
            "11    1\n",
            "dtype: int64\n",
            "1    4\n",
            "3    3\n",
            "4    3\n",
            "2    2\n",
            "Name: count, dtype: int64\n",
            "0     Other\n",
            "1     Other\n",
            "2         1\n",
            "3         3\n",
            "4         3\n",
            "5         1\n",
            "6         1\n",
            "7     Other\n",
            "8     Other\n",
            "9     Other\n",
            "10        3\n",
            "11        1\n",
            "dtype: object\n"
          ]
        },
        {
          "output_type": "execute_result",
          "data": {
            "text/plain": [
              "Other    5\n",
              "1        4\n",
              "3        3\n",
              "Name: count, dtype: int64"
            ]
          },
          "metadata": {},
          "execution_count": 41
        }
      ]
    },
    {
      "cell_type": "markdown",
      "source": [
        "**11. How to bin a numeric series to 10 groups of equal size?**\n",
        "\n",
        "Bin the series ser into 10 equal deciles and replace the values with the bin name.\n",
        "\n",
        "*Input:*"
      ],
      "metadata": {
        "id": "hwJLK1_gXuLl"
      }
    },
    {
      "cell_type": "code",
      "source": [
        "ser = pd.Series(np.random.random(20))"
      ],
      "metadata": {
        "id": "YZel-uvRX5WX"
      },
      "execution_count": 42,
      "outputs": []
    },
    {
      "cell_type": "markdown",
      "source": [
        "*Desired Output:*"
      ],
      "metadata": {
        "id": "ErVrUeRqcoWZ"
      }
    },
    {
      "cell_type": "code",
      "source": [
        "# First 5 items\n",
        "0    7th\n",
        "1    9th\n",
        "2    7th\n",
        "3    3rd\n",
        "4    8th\n",
        "dtype: category\n",
        "Categories (10, object): [1st < 2nd < 3rd < 4th ... 7th < 8th < 9th < 10th]"
      ],
      "metadata": {
        "id": "zAVUXDaYcyKl"
      },
      "execution_count": null,
      "outputs": []
    },
    {
      "cell_type": "code",
      "source": [
        "print(ser)\n",
        "pd.qcut(ser, q=[0, 0.1, 0.2, 0.3, 0.4, 0.5, 0.6, 0.7, 0.8, 0.9, 1], labels=['1st', '2nd', '3rd', '4th', '5th', '6th', '7th', '8th', '9th', '10th'])"
      ],
      "metadata": {
        "colab": {
          "base_uri": "https://localhost:8080/"
        },
        "id": "P26xR6OLcy87",
        "outputId": "638c1c24-9a5a-4241-89e8-50ac38d2ca95"
      },
      "execution_count": 45,
      "outputs": [
        {
          "output_type": "stream",
          "name": "stdout",
          "text": [
            "0     0.045803\n",
            "1     0.057589\n",
            "2     0.182752\n",
            "3     0.844483\n",
            "4     0.228431\n",
            "5     0.667206\n",
            "6     0.029774\n",
            "7     0.249181\n",
            "8     0.861967\n",
            "9     0.813081\n",
            "10    0.339266\n",
            "11    0.798056\n",
            "12    0.206013\n",
            "13    0.268454\n",
            "14    0.536524\n",
            "15    0.844789\n",
            "16    0.685825\n",
            "17    0.972061\n",
            "18    0.270653\n",
            "19    0.559700\n",
            "dtype: float64\n"
          ]
        },
        {
          "output_type": "execute_result",
          "data": {
            "text/plain": [
              "0      1st\n",
              "1      2nd\n",
              "2      2nd\n",
              "3      9th\n",
              "4      3rd\n",
              "5      7th\n",
              "6      1st\n",
              "7      4th\n",
              "8     10th\n",
              "9      8th\n",
              "10     5th\n",
              "11     8th\n",
              "12     3rd\n",
              "13     4th\n",
              "14     6th\n",
              "15     9th\n",
              "16     7th\n",
              "17    10th\n",
              "18     5th\n",
              "19     6th\n",
              "dtype: category\n",
              "Categories (10, object): ['1st' < '2nd' < '3rd' < '4th' ... '7th' < '8th' < '9th' < '10th']"
            ]
          },
          "metadata": {},
          "execution_count": 45
        }
      ]
    },
    {
      "cell_type": "markdown",
      "source": [
        "**12. How to convert a numpy array to a dataframe of given shape?**\n",
        "\n",
        "Reshape the series ser into a dataframe with 7 rows and 5 columns\n",
        "\n",
        "*Input:*"
      ],
      "metadata": {
        "id": "i-Ah4E1Id5Au"
      }
    },
    {
      "cell_type": "code",
      "source": [
        "ser = pd.Series(np.random.randint(1, 10, 35))"
      ],
      "metadata": {
        "id": "M3lCzeQoeBan"
      },
      "execution_count": 46,
      "outputs": []
    },
    {
      "cell_type": "code",
      "source": [
        "print(ser)\n",
        "df = pd.DataFrame(ser.values.reshape(7,5))\n",
        "df"
      ],
      "metadata": {
        "colab": {
          "base_uri": "https://localhost:8080/",
          "height": 894
        },
        "id": "VLBI687WeIi9",
        "outputId": "cd654813-f6fe-4817-a82c-18d9cc8fcd77"
      },
      "execution_count": 50,
      "outputs": [
        {
          "output_type": "stream",
          "name": "stdout",
          "text": [
            "0     3\n",
            "1     7\n",
            "2     2\n",
            "3     7\n",
            "4     3\n",
            "5     9\n",
            "6     2\n",
            "7     6\n",
            "8     6\n",
            "9     4\n",
            "10    5\n",
            "11    2\n",
            "12    6\n",
            "13    5\n",
            "14    5\n",
            "15    5\n",
            "16    6\n",
            "17    2\n",
            "18    9\n",
            "19    8\n",
            "20    4\n",
            "21    2\n",
            "22    6\n",
            "23    5\n",
            "24    9\n",
            "25    6\n",
            "26    4\n",
            "27    5\n",
            "28    5\n",
            "29    4\n",
            "30    2\n",
            "31    7\n",
            "32    1\n",
            "33    1\n",
            "34    1\n",
            "dtype: int64\n"
          ]
        },
        {
          "output_type": "execute_result",
          "data": {
            "text/plain": [
              "   0  1  2  3  4\n",
              "0  3  7  2  7  3\n",
              "1  9  2  6  6  4\n",
              "2  5  2  6  5  5\n",
              "3  5  6  2  9  8\n",
              "4  4  2  6  5  9\n",
              "5  6  4  5  5  4\n",
              "6  2  7  1  1  1"
            ],
            "text/html": [
              "\n",
              "  <div id=\"df-ff053646-7fce-42b9-9f5e-a136a97a65ef\" class=\"colab-df-container\">\n",
              "    <div>\n",
              "<style scoped>\n",
              "    .dataframe tbody tr th:only-of-type {\n",
              "        vertical-align: middle;\n",
              "    }\n",
              "\n",
              "    .dataframe tbody tr th {\n",
              "        vertical-align: top;\n",
              "    }\n",
              "\n",
              "    .dataframe thead th {\n",
              "        text-align: right;\n",
              "    }\n",
              "</style>\n",
              "<table border=\"1\" class=\"dataframe\">\n",
              "  <thead>\n",
              "    <tr style=\"text-align: right;\">\n",
              "      <th></th>\n",
              "      <th>0</th>\n",
              "      <th>1</th>\n",
              "      <th>2</th>\n",
              "      <th>3</th>\n",
              "      <th>4</th>\n",
              "    </tr>\n",
              "  </thead>\n",
              "  <tbody>\n",
              "    <tr>\n",
              "      <th>0</th>\n",
              "      <td>3</td>\n",
              "      <td>7</td>\n",
              "      <td>2</td>\n",
              "      <td>7</td>\n",
              "      <td>3</td>\n",
              "    </tr>\n",
              "    <tr>\n",
              "      <th>1</th>\n",
              "      <td>9</td>\n",
              "      <td>2</td>\n",
              "      <td>6</td>\n",
              "      <td>6</td>\n",
              "      <td>4</td>\n",
              "    </tr>\n",
              "    <tr>\n",
              "      <th>2</th>\n",
              "      <td>5</td>\n",
              "      <td>2</td>\n",
              "      <td>6</td>\n",
              "      <td>5</td>\n",
              "      <td>5</td>\n",
              "    </tr>\n",
              "    <tr>\n",
              "      <th>3</th>\n",
              "      <td>5</td>\n",
              "      <td>6</td>\n",
              "      <td>2</td>\n",
              "      <td>9</td>\n",
              "      <td>8</td>\n",
              "    </tr>\n",
              "    <tr>\n",
              "      <th>4</th>\n",
              "      <td>4</td>\n",
              "      <td>2</td>\n",
              "      <td>6</td>\n",
              "      <td>5</td>\n",
              "      <td>9</td>\n",
              "    </tr>\n",
              "    <tr>\n",
              "      <th>5</th>\n",
              "      <td>6</td>\n",
              "      <td>4</td>\n",
              "      <td>5</td>\n",
              "      <td>5</td>\n",
              "      <td>4</td>\n",
              "    </tr>\n",
              "    <tr>\n",
              "      <th>6</th>\n",
              "      <td>2</td>\n",
              "      <td>7</td>\n",
              "      <td>1</td>\n",
              "      <td>1</td>\n",
              "      <td>1</td>\n",
              "    </tr>\n",
              "  </tbody>\n",
              "</table>\n",
              "</div>\n",
              "    <div class=\"colab-df-buttons\">\n",
              "\n",
              "  <div class=\"colab-df-container\">\n",
              "    <button class=\"colab-df-convert\" onclick=\"convertToInteractive('df-ff053646-7fce-42b9-9f5e-a136a97a65ef')\"\n",
              "            title=\"Convert this dataframe to an interactive table.\"\n",
              "            style=\"display:none;\">\n",
              "\n",
              "  <svg xmlns=\"http://www.w3.org/2000/svg\" height=\"24px\" viewBox=\"0 -960 960 960\">\n",
              "    <path d=\"M120-120v-720h720v720H120Zm60-500h600v-160H180v160Zm220 220h160v-160H400v160Zm0 220h160v-160H400v160ZM180-400h160v-160H180v160Zm440 0h160v-160H620v160ZM180-180h160v-160H180v160Zm440 0h160v-160H620v160Z\"/>\n",
              "  </svg>\n",
              "    </button>\n",
              "\n",
              "  <style>\n",
              "    .colab-df-container {\n",
              "      display:flex;\n",
              "      gap: 12px;\n",
              "    }\n",
              "\n",
              "    .colab-df-convert {\n",
              "      background-color: #E8F0FE;\n",
              "      border: none;\n",
              "      border-radius: 50%;\n",
              "      cursor: pointer;\n",
              "      display: none;\n",
              "      fill: #1967D2;\n",
              "      height: 32px;\n",
              "      padding: 0 0 0 0;\n",
              "      width: 32px;\n",
              "    }\n",
              "\n",
              "    .colab-df-convert:hover {\n",
              "      background-color: #E2EBFA;\n",
              "      box-shadow: 0px 1px 2px rgba(60, 64, 67, 0.3), 0px 1px 3px 1px rgba(60, 64, 67, 0.15);\n",
              "      fill: #174EA6;\n",
              "    }\n",
              "\n",
              "    .colab-df-buttons div {\n",
              "      margin-bottom: 4px;\n",
              "    }\n",
              "\n",
              "    [theme=dark] .colab-df-convert {\n",
              "      background-color: #3B4455;\n",
              "      fill: #D2E3FC;\n",
              "    }\n",
              "\n",
              "    [theme=dark] .colab-df-convert:hover {\n",
              "      background-color: #434B5C;\n",
              "      box-shadow: 0px 1px 3px 1px rgba(0, 0, 0, 0.15);\n",
              "      filter: drop-shadow(0px 1px 2px rgba(0, 0, 0, 0.3));\n",
              "      fill: #FFFFFF;\n",
              "    }\n",
              "  </style>\n",
              "\n",
              "    <script>\n",
              "      const buttonEl =\n",
              "        document.querySelector('#df-ff053646-7fce-42b9-9f5e-a136a97a65ef button.colab-df-convert');\n",
              "      buttonEl.style.display =\n",
              "        google.colab.kernel.accessAllowed ? 'block' : 'none';\n",
              "\n",
              "      async function convertToInteractive(key) {\n",
              "        const element = document.querySelector('#df-ff053646-7fce-42b9-9f5e-a136a97a65ef');\n",
              "        const dataTable =\n",
              "          await google.colab.kernel.invokeFunction('convertToInteractive',\n",
              "                                                    [key], {});\n",
              "        if (!dataTable) return;\n",
              "\n",
              "        const docLinkHtml = 'Like what you see? Visit the ' +\n",
              "          '<a target=\"_blank\" href=https://colab.research.google.com/notebooks/data_table.ipynb>data table notebook</a>'\n",
              "          + ' to learn more about interactive tables.';\n",
              "        element.innerHTML = '';\n",
              "        dataTable['output_type'] = 'display_data';\n",
              "        await google.colab.output.renderOutput(dataTable, element);\n",
              "        const docLink = document.createElement('div');\n",
              "        docLink.innerHTML = docLinkHtml;\n",
              "        element.appendChild(docLink);\n",
              "      }\n",
              "    </script>\n",
              "  </div>\n",
              "\n",
              "\n",
              "<div id=\"df-492da40e-3510-48f2-9abd-610b3aafe1f9\">\n",
              "  <button class=\"colab-df-quickchart\" onclick=\"quickchart('df-492da40e-3510-48f2-9abd-610b3aafe1f9')\"\n",
              "            title=\"Suggest charts\"\n",
              "            style=\"display:none;\">\n",
              "\n",
              "<svg xmlns=\"http://www.w3.org/2000/svg\" height=\"24px\"viewBox=\"0 0 24 24\"\n",
              "     width=\"24px\">\n",
              "    <g>\n",
              "        <path d=\"M19 3H5c-1.1 0-2 .9-2 2v14c0 1.1.9 2 2 2h14c1.1 0 2-.9 2-2V5c0-1.1-.9-2-2-2zM9 17H7v-7h2v7zm4 0h-2V7h2v10zm4 0h-2v-4h2v4z\"/>\n",
              "    </g>\n",
              "</svg>\n",
              "  </button>\n",
              "\n",
              "<style>\n",
              "  .colab-df-quickchart {\n",
              "      --bg-color: #E8F0FE;\n",
              "      --fill-color: #1967D2;\n",
              "      --hover-bg-color: #E2EBFA;\n",
              "      --hover-fill-color: #174EA6;\n",
              "      --disabled-fill-color: #AAA;\n",
              "      --disabled-bg-color: #DDD;\n",
              "  }\n",
              "\n",
              "  [theme=dark] .colab-df-quickchart {\n",
              "      --bg-color: #3B4455;\n",
              "      --fill-color: #D2E3FC;\n",
              "      --hover-bg-color: #434B5C;\n",
              "      --hover-fill-color: #FFFFFF;\n",
              "      --disabled-bg-color: #3B4455;\n",
              "      --disabled-fill-color: #666;\n",
              "  }\n",
              "\n",
              "  .colab-df-quickchart {\n",
              "    background-color: var(--bg-color);\n",
              "    border: none;\n",
              "    border-radius: 50%;\n",
              "    cursor: pointer;\n",
              "    display: none;\n",
              "    fill: var(--fill-color);\n",
              "    height: 32px;\n",
              "    padding: 0;\n",
              "    width: 32px;\n",
              "  }\n",
              "\n",
              "  .colab-df-quickchart:hover {\n",
              "    background-color: var(--hover-bg-color);\n",
              "    box-shadow: 0 1px 2px rgba(60, 64, 67, 0.3), 0 1px 3px 1px rgba(60, 64, 67, 0.15);\n",
              "    fill: var(--button-hover-fill-color);\n",
              "  }\n",
              "\n",
              "  .colab-df-quickchart-complete:disabled,\n",
              "  .colab-df-quickchart-complete:disabled:hover {\n",
              "    background-color: var(--disabled-bg-color);\n",
              "    fill: var(--disabled-fill-color);\n",
              "    box-shadow: none;\n",
              "  }\n",
              "\n",
              "  .colab-df-spinner {\n",
              "    border: 2px solid var(--fill-color);\n",
              "    border-color: transparent;\n",
              "    border-bottom-color: var(--fill-color);\n",
              "    animation:\n",
              "      spin 1s steps(1) infinite;\n",
              "  }\n",
              "\n",
              "  @keyframes spin {\n",
              "    0% {\n",
              "      border-color: transparent;\n",
              "      border-bottom-color: var(--fill-color);\n",
              "      border-left-color: var(--fill-color);\n",
              "    }\n",
              "    20% {\n",
              "      border-color: transparent;\n",
              "      border-left-color: var(--fill-color);\n",
              "      border-top-color: var(--fill-color);\n",
              "    }\n",
              "    30% {\n",
              "      border-color: transparent;\n",
              "      border-left-color: var(--fill-color);\n",
              "      border-top-color: var(--fill-color);\n",
              "      border-right-color: var(--fill-color);\n",
              "    }\n",
              "    40% {\n",
              "      border-color: transparent;\n",
              "      border-right-color: var(--fill-color);\n",
              "      border-top-color: var(--fill-color);\n",
              "    }\n",
              "    60% {\n",
              "      border-color: transparent;\n",
              "      border-right-color: var(--fill-color);\n",
              "    }\n",
              "    80% {\n",
              "      border-color: transparent;\n",
              "      border-right-color: var(--fill-color);\n",
              "      border-bottom-color: var(--fill-color);\n",
              "    }\n",
              "    90% {\n",
              "      border-color: transparent;\n",
              "      border-bottom-color: var(--fill-color);\n",
              "    }\n",
              "  }\n",
              "</style>\n",
              "\n",
              "  <script>\n",
              "    async function quickchart(key) {\n",
              "      const quickchartButtonEl =\n",
              "        document.querySelector('#' + key + ' button');\n",
              "      quickchartButtonEl.disabled = true;  // To prevent multiple clicks.\n",
              "      quickchartButtonEl.classList.add('colab-df-spinner');\n",
              "      try {\n",
              "        const charts = await google.colab.kernel.invokeFunction(\n",
              "            'suggestCharts', [key], {});\n",
              "      } catch (error) {\n",
              "        console.error('Error during call to suggestCharts:', error);\n",
              "      }\n",
              "      quickchartButtonEl.classList.remove('colab-df-spinner');\n",
              "      quickchartButtonEl.classList.add('colab-df-quickchart-complete');\n",
              "    }\n",
              "    (() => {\n",
              "      let quickchartButtonEl =\n",
              "        document.querySelector('#df-492da40e-3510-48f2-9abd-610b3aafe1f9 button');\n",
              "      quickchartButtonEl.style.display =\n",
              "        google.colab.kernel.accessAllowed ? 'block' : 'none';\n",
              "    })();\n",
              "  </script>\n",
              "</div>\n",
              "\n",
              "  <div id=\"id_2aafa1c3-cf59-4be9-b930-470272b25f99\">\n",
              "    <style>\n",
              "      .colab-df-generate {\n",
              "        background-color: #E8F0FE;\n",
              "        border: none;\n",
              "        border-radius: 50%;\n",
              "        cursor: pointer;\n",
              "        display: none;\n",
              "        fill: #1967D2;\n",
              "        height: 32px;\n",
              "        padding: 0 0 0 0;\n",
              "        width: 32px;\n",
              "      }\n",
              "\n",
              "      .colab-df-generate:hover {\n",
              "        background-color: #E2EBFA;\n",
              "        box-shadow: 0px 1px 2px rgba(60, 64, 67, 0.3), 0px 1px 3px 1px rgba(60, 64, 67, 0.15);\n",
              "        fill: #174EA6;\n",
              "      }\n",
              "\n",
              "      [theme=dark] .colab-df-generate {\n",
              "        background-color: #3B4455;\n",
              "        fill: #D2E3FC;\n",
              "      }\n",
              "\n",
              "      [theme=dark] .colab-df-generate:hover {\n",
              "        background-color: #434B5C;\n",
              "        box-shadow: 0px 1px 3px 1px rgba(0, 0, 0, 0.15);\n",
              "        filter: drop-shadow(0px 1px 2px rgba(0, 0, 0, 0.3));\n",
              "        fill: #FFFFFF;\n",
              "      }\n",
              "    </style>\n",
              "    <button class=\"colab-df-generate\" onclick=\"generateWithVariable('df')\"\n",
              "            title=\"Generate code using this dataframe.\"\n",
              "            style=\"display:none;\">\n",
              "\n",
              "  <svg xmlns=\"http://www.w3.org/2000/svg\" height=\"24px\"viewBox=\"0 0 24 24\"\n",
              "       width=\"24px\">\n",
              "    <path d=\"M7,19H8.4L18.45,9,17,7.55,7,17.6ZM5,21V16.75L18.45,3.32a2,2,0,0,1,2.83,0l1.4,1.43a1.91,1.91,0,0,1,.58,1.4,1.91,1.91,0,0,1-.58,1.4L9.25,21ZM18.45,9,17,7.55Zm-12,3A5.31,5.31,0,0,0,4.9,8.1,5.31,5.31,0,0,0,1,6.5,5.31,5.31,0,0,0,4.9,4.9,5.31,5.31,0,0,0,6.5,1,5.31,5.31,0,0,0,8.1,4.9,5.31,5.31,0,0,0,12,6.5,5.46,5.46,0,0,0,6.5,12Z\"/>\n",
              "  </svg>\n",
              "    </button>\n",
              "    <script>\n",
              "      (() => {\n",
              "      const buttonEl =\n",
              "        document.querySelector('#id_2aafa1c3-cf59-4be9-b930-470272b25f99 button.colab-df-generate');\n",
              "      buttonEl.style.display =\n",
              "        google.colab.kernel.accessAllowed ? 'block' : 'none';\n",
              "\n",
              "      buttonEl.onclick = () => {\n",
              "        google.colab.notebook.generateWithVariable('df');\n",
              "      }\n",
              "      })();\n",
              "    </script>\n",
              "  </div>\n",
              "\n",
              "    </div>\n",
              "  </div>\n"
            ],
            "application/vnd.google.colaboratory.intrinsic+json": {
              "type": "dataframe",
              "variable_name": "df",
              "summary": "{\n  \"name\": \"df\",\n  \"rows\": 7,\n  \"fields\": [\n    {\n      \"column\": 0,\n      \"properties\": {\n        \"dtype\": \"number\",\n        \"std\": 2,\n        \"min\": 2,\n        \"max\": 9,\n        \"num_unique_values\": 6,\n        \"samples\": [\n          3,\n          9,\n          2\n        ],\n        \"semantic_type\": \"\",\n        \"description\": \"\"\n      }\n    },\n    {\n      \"column\": 1,\n      \"properties\": {\n        \"dtype\": \"number\",\n        \"std\": 2,\n        \"min\": 2,\n        \"max\": 7,\n        \"num_unique_values\": 4,\n        \"samples\": [\n          2,\n          4,\n          7\n        ],\n        \"semantic_type\": \"\",\n        \"description\": \"\"\n      }\n    },\n    {\n      \"column\": 2,\n      \"properties\": {\n        \"dtype\": \"number\",\n        \"std\": 2,\n        \"min\": 1,\n        \"max\": 6,\n        \"num_unique_values\": 4,\n        \"samples\": [\n          6,\n          1,\n          2\n        ],\n        \"semantic_type\": \"\",\n        \"description\": \"\"\n      }\n    },\n    {\n      \"column\": 3,\n      \"properties\": {\n        \"dtype\": \"number\",\n        \"std\": 2,\n        \"min\": 1,\n        \"max\": 9,\n        \"num_unique_values\": 5,\n        \"samples\": [\n          6,\n          1,\n          5\n        ],\n        \"semantic_type\": \"\",\n        \"description\": \"\"\n      }\n    },\n    {\n      \"column\": 4,\n      \"properties\": {\n        \"dtype\": \"number\",\n        \"std\": 2,\n        \"min\": 1,\n        \"max\": 9,\n        \"num_unique_values\": 6,\n        \"samples\": [\n          3,\n          4,\n          1\n        ],\n        \"semantic_type\": \"\",\n        \"description\": \"\"\n      }\n    }\n  ]\n}"
            }
          },
          "metadata": {},
          "execution_count": 50
        }
      ]
    },
    {
      "cell_type": "markdown",
      "source": [
        "**13. How to find the positions of numbers that are multiples of 3 from a series?**\n",
        "\n",
        "Find the positions of numbers that are multiples of 3 from ser.\n",
        "\n",
        "*Input:*"
      ],
      "metadata": {
        "id": "XFXx6ubdfI9F"
      }
    },
    {
      "cell_type": "code",
      "source": [
        "ser = pd.Series(np.random.randint(1, 10, 7))"
      ],
      "metadata": {
        "id": "ZRbmK_SCfOeQ"
      },
      "execution_count": 53,
      "outputs": []
    },
    {
      "cell_type": "code",
      "source": [
        "print(ser)\n",
        "np.argwhere(ser % 3 == 0)"
      ],
      "metadata": {
        "colab": {
          "base_uri": "https://localhost:8080/"
        },
        "id": "YGJyHxJ7fRU3",
        "outputId": "1a29bccd-8777-4bff-d4ce-6d88ca02e17e"
      },
      "execution_count": 54,
      "outputs": [
        {
          "output_type": "stream",
          "name": "stdout",
          "text": [
            "0    6\n",
            "1    9\n",
            "2    8\n",
            "3    2\n",
            "4    9\n",
            "5    9\n",
            "6    1\n",
            "dtype: int64\n"
          ]
        },
        {
          "output_type": "execute_result",
          "data": {
            "text/plain": [
              "array([[0],\n",
              "       [1],\n",
              "       [4],\n",
              "       [5]])"
            ]
          },
          "metadata": {},
          "execution_count": 54
        }
      ]
    },
    {
      "cell_type": "markdown",
      "source": [
        "**14. How to extract items at given positions from a series**\n",
        "\n",
        "From ser, extract the items at positions in list pos.\n",
        "\n",
        "*Input:*"
      ],
      "metadata": {
        "id": "EryaugDnflZA"
      }
    },
    {
      "cell_type": "code",
      "source": [
        "ser = pd.Series(list('abcdefghijklmnopqrstuvwxyz'))\n",
        "pos = [0, 4, 8, 14, 20]"
      ],
      "metadata": {
        "id": "d7aaihPlrrh2"
      },
      "execution_count": 55,
      "outputs": []
    },
    {
      "cell_type": "code",
      "source": [
        "ser.take(pos)"
      ],
      "metadata": {
        "colab": {
          "base_uri": "https://localhost:8080/"
        },
        "id": "aR2-1gS5rwoY",
        "outputId": "c139e341-c2ad-46c4-d6d6-8a92f4718123"
      },
      "execution_count": 59,
      "outputs": [
        {
          "output_type": "execute_result",
          "data": {
            "text/plain": [
              "0     a\n",
              "4     e\n",
              "8     i\n",
              "14    o\n",
              "20    u\n",
              "dtype: object"
            ]
          },
          "metadata": {},
          "execution_count": 59
        }
      ]
    },
    {
      "cell_type": "markdown",
      "source": [
        "**15. How to stack two series vertically and horizontally ?**\n",
        "\n",
        "Stack ser1 and ser2 vertically and horizontally (to form a dataframe).\n",
        "\n",
        "*Input:*"
      ],
      "metadata": {
        "id": "RJibSYEwsoyz"
      }
    },
    {
      "cell_type": "code",
      "source": [
        "ser1 = pd.Series(range(5))\n",
        "ser2 = pd.Series(list('abcde'))"
      ],
      "metadata": {
        "id": "LrLoB7c8tPRb"
      },
      "execution_count": 60,
      "outputs": []
    },
    {
      "cell_type": "code",
      "source": [
        "# Vertical\n",
        "# print(ser1.append(ser2)) -> For older version of pandas\n",
        "df_v = pd.concat([ser1, ser2], axis=0)\n",
        "print(df_v)\n",
        "\n",
        "# Horizontal\n",
        "df_h = pd.concat([ser1, ser2], axis=1)\n",
        "print(df_h)"
      ],
      "metadata": {
        "colab": {
          "base_uri": "https://localhost:8080/"
        },
        "id": "itZYIe4ftR7C",
        "outputId": "d9958e8c-b168-4c30-84e3-92bb0e11a00b"
      },
      "execution_count": 62,
      "outputs": [
        {
          "output_type": "stream",
          "name": "stdout",
          "text": [
            "0    0\n",
            "1    1\n",
            "2    2\n",
            "3    3\n",
            "4    4\n",
            "0    a\n",
            "1    b\n",
            "2    c\n",
            "3    d\n",
            "4    e\n",
            "dtype: object\n",
            "   0  1\n",
            "0  0  a\n",
            "1  1  b\n",
            "2  2  c\n",
            "3  3  d\n",
            "4  4  e\n"
          ]
        }
      ]
    },
    {
      "cell_type": "markdown",
      "source": [
        "**16. How to get the positions of items of series A in another series B?**\n",
        "\n",
        "Get the positions of items of ser2 in ser1 as a list.\n",
        "\n",
        "*Input:*"
      ],
      "metadata": {
        "id": "e3WbrTgrw_Tg"
      }
    },
    {
      "cell_type": "code",
      "source": [
        "ser1 = pd.Series([10, 9, 6, 5, 3, 1, 12, 8, 13])\n",
        "ser2 = pd.Series([1, 3, 10, 13])"
      ],
      "metadata": {
        "id": "pjxmEFxfxF53"
      },
      "execution_count": 63,
      "outputs": []
    },
    {
      "cell_type": "code",
      "source": [
        "print(ser1[ser1.isin(ser2)].index)\n",
        "\n",
        "# OR\n",
        "print([np.where(i == ser1)[0].tolist()[0] for i in ser2])\n",
        "\n",
        "# OR\n",
        "print([pd.Index(ser1).get_loc(i) for i in ser2])"
      ],
      "metadata": {
        "colab": {
          "base_uri": "https://localhost:8080/"
        },
        "id": "HsExYFcBxJrf",
        "outputId": "b5994bfd-46ca-4c1c-96fe-5cbe1d45461d"
      },
      "execution_count": 68,
      "outputs": [
        {
          "output_type": "stream",
          "name": "stdout",
          "text": [
            "Index([0, 4, 5, 8], dtype='int64')\n",
            "[5, 4, 0, 8]\n",
            "[5, 4, 0, 8]\n"
          ]
        }
      ]
    },
    {
      "cell_type": "markdown",
      "source": [
        "**17. How to compute the mean squared error on a truth and predicted series?**\n",
        "\n",
        "Compute the mean squared error of truth and pred series.\n",
        "\n",
        "*Input:*"
      ],
      "metadata": {
        "id": "K7TZJ9Lb6W5Q"
      }
    },
    {
      "cell_type": "code",
      "source": [
        "truth = pd.Series(range(10))\n",
        "pred = pd.Series(range(10)) + np.random.random(10)"
      ],
      "metadata": {
        "id": "m2wsqBJG6i1D"
      },
      "execution_count": 69,
      "outputs": []
    },
    {
      "cell_type": "code",
      "source": [
        "mse = np.mean((pred - truth) ** 2)\n",
        "print(truth)\n",
        "print(pred)\n",
        "print(mse)"
      ],
      "metadata": {
        "colab": {
          "base_uri": "https://localhost:8080/"
        },
        "id": "pc-JaFSA6pZu",
        "outputId": "6cb270ce-36d5-49d7-a457-8ec7e94c90ee"
      },
      "execution_count": 73,
      "outputs": [
        {
          "output_type": "stream",
          "name": "stdout",
          "text": [
            "0    0\n",
            "1    1\n",
            "2    2\n",
            "3    3\n",
            "4    4\n",
            "5    5\n",
            "6    6\n",
            "7    7\n",
            "8    8\n",
            "9    9\n",
            "dtype: int64\n",
            "0    0.436980\n",
            "1    1.833744\n",
            "2    2.830080\n",
            "3    3.555479\n",
            "4    4.325862\n",
            "5    5.369324\n",
            "6    6.835949\n",
            "7    7.036872\n",
            "8    8.079413\n",
            "9    9.896653\n",
            "dtype: float64\n",
            "0.36367203666938164\n"
          ]
        }
      ]
    },
    {
      "cell_type": "markdown",
      "source": [
        "**18. How to convert the first character of each element in a series to uppercase?**\n",
        "\n",
        "Change the first character of each word to upper case in each word of ser.\n",
        "\n",
        "*Input:*"
      ],
      "metadata": {
        "id": "IpUxgj-A7Xxu"
      }
    },
    {
      "cell_type": "code",
      "source": [
        "ser = pd.Series(['how', 'to', 'kick', 'ass?'])"
      ],
      "metadata": {
        "id": "dnJidRRc7hky"
      },
      "execution_count": 74,
      "outputs": []
    },
    {
      "cell_type": "code",
      "source": [
        "ser1 = pd.Series([i.title() for i in ser])\n",
        "\n",
        "# OR\n",
        "ser2 = ser.map(lambda x: x.title())\n",
        "\n",
        "# OR\n",
        "ser3 = ser.map(lambda x: x[0].upper() + x[1:])\n",
        "\n",
        "print(ser1)\n",
        "print(ser2)\n",
        "print(ser3)"
      ],
      "metadata": {
        "colab": {
          "base_uri": "https://localhost:8080/"
        },
        "id": "Iv-mHkGG7jvw",
        "outputId": "1a925462-a761-4107-b74d-5e4b1a0b3688"
      },
      "execution_count": 78,
      "outputs": [
        {
          "output_type": "stream",
          "name": "stdout",
          "text": [
            "0     How\n",
            "1      To\n",
            "2    Kick\n",
            "3    Ass?\n",
            "dtype: object\n",
            "0     How\n",
            "1      To\n",
            "2    Kick\n",
            "3    Ass?\n",
            "dtype: object\n",
            "0     How\n",
            "1      To\n",
            "2    Kick\n",
            "3    Ass?\n",
            "dtype: object\n"
          ]
        }
      ]
    },
    {
      "cell_type": "markdown",
      "source": [
        "**19. How to calculate the number of characters in each word in a series?**\n",
        "\n",
        "*Input:*"
      ],
      "metadata": {
        "id": "7TUPu5fy82QW"
      }
    },
    {
      "cell_type": "code",
      "source": [
        "ser = pd.Series(['how', 'to', 'kick', 'ass?'])"
      ],
      "metadata": {
        "id": "N60oiORh_wpF"
      },
      "execution_count": 79,
      "outputs": []
    },
    {
      "cell_type": "code",
      "source": [
        "ser.map(lambda x: len(x))"
      ],
      "metadata": {
        "colab": {
          "base_uri": "https://localhost:8080/"
        },
        "id": "XASY2Njm_2uv",
        "outputId": "16a854e5-2d7c-44cd-d6c6-87b55ace725a"
      },
      "execution_count": 81,
      "outputs": [
        {
          "output_type": "execute_result",
          "data": {
            "text/plain": [
              "0    3\n",
              "1    2\n",
              "2    4\n",
              "3    4\n",
              "dtype: int64"
            ]
          },
          "metadata": {},
          "execution_count": 81
        }
      ]
    },
    {
      "cell_type": "markdown",
      "source": [
        "**20. How to compute difference of differences between consequtive numbers of a series?**\n",
        "\n",
        "Difference of differences between the consequtive numbers of ser.\n",
        "\n",
        "*Input:*"
      ],
      "metadata": {
        "id": "mQHoLXiAChHn"
      }
    },
    {
      "cell_type": "code",
      "source": [
        "ser = pd.Series([1, 3, 6, 10, 15, 21, 27, 35])"
      ],
      "metadata": {
        "id": "pu3WUdtBCls6"
      },
      "execution_count": 82,
      "outputs": []
    },
    {
      "cell_type": "markdown",
      "source": [
        "*Desired Output:*"
      ],
      "metadata": {
        "id": "DbFmeFv2CouZ"
      }
    },
    {
      "cell_type": "code",
      "source": [
        "[nan, 2.0, 3.0, 4.0, 5.0, 6.0, 6.0, 8.0]\n",
        "[nan, nan, 1.0, 1.0, 1.0, 1.0, 0.0, 2.0]"
      ],
      "metadata": {
        "id": "vvLZP1prCr1J"
      },
      "execution_count": null,
      "outputs": []
    },
    {
      "cell_type": "code",
      "source": [
        "print(ser.diff().tolist())\n",
        "print(ser.diff().diff().tolist())"
      ],
      "metadata": {
        "colab": {
          "base_uri": "https://localhost:8080/"
        },
        "id": "vVcOp_6jCtlk",
        "outputId": "7e975c55-ddee-42d1-a07f-c0ceba8e308a"
      },
      "execution_count": 86,
      "outputs": [
        {
          "output_type": "stream",
          "name": "stdout",
          "text": [
            "[nan, 2.0, 3.0, 4.0, 5.0, 6.0, 6.0, 8.0]\n",
            "[nan, nan, 1.0, 1.0, 1.0, 1.0, 0.0, 2.0]\n"
          ]
        }
      ]
    }
  ]
}
